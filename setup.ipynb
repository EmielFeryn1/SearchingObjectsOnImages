{
 "cells": [
  {
   "cell_type": "markdown",
   "source": [
    "# Searching objects on images using Natual Language"
   ],
   "metadata": {
    "collapsed": false
   },
   "id": "cc1782210f746dc9"
  },
  {
   "cell_type": "markdown",
   "source": [
    "## Installing packages"
   ],
   "metadata": {
    "collapsed": false
   },
   "id": "8dba9a221b81d71"
  },
  {
   "cell_type": "code",
   "execution_count": 5,
   "id": "initial_id",
   "metadata": {
    "collapsed": true,
    "ExecuteTime": {
     "end_time": "2024-01-08T21:20:45.560998500Z",
     "start_time": "2024-01-08T21:20:29.866051900Z"
    }
   },
   "outputs": [
    {
     "name": "stdout",
     "output_type": "stream",
     "text": [
      "Collecting git+https://github.com/facebookresearch/segment-anything.git\n",
      "  Cloning https://github.com/facebookresearch/segment-anything.git to c:\\users\\emiel.feryn\\appdata\\local\\temp\\pip-req-build-sm5xyzt3\n",
      "  Resolved https://github.com/facebookresearch/segment-anything.git to commit 6fdee8f2727f4506cfbbe553e23b895e27956588\n",
      "  Preparing metadata (setup.py): started\n",
      "  Preparing metadata (setup.py): finished with status 'done'\n"
     ]
    },
    {
     "name": "stderr",
     "output_type": "stream",
     "text": [
      "  Running command git clone --filter=blob:none --quiet https://github.com/facebookresearch/segment-anything.git 'C:\\Users\\Emiel.Feryn\\AppData\\Local\\Temp\\pip-req-build-sm5xyzt3'\n",
      "\n",
      "[notice] A new release of pip available: 22.3.1 -> 23.3.2\n",
      "[notice] To update, run: python.exe -m pip install --upgrade pip\n"
     ]
    },
    {
     "name": "stdout",
     "output_type": "stream",
     "text": [
      "Requirement already satisfied: open_clip_torch in c:\\users\\emiel.feryn\\pycharmprojects\\pythonproject2\\venv\\lib\\site-packages (2.24.0)\n",
      "Requirement already satisfied: torch>=1.9.0 in c:\\users\\emiel.feryn\\pycharmprojects\\pythonproject2\\venv\\lib\\site-packages (from open_clip_torch) (2.1.2)\n",
      "Requirement already satisfied: regex in c:\\users\\emiel.feryn\\pycharmprojects\\pythonproject2\\venv\\lib\\site-packages (from open_clip_torch) (2023.12.25)\n",
      "Requirement already satisfied: tqdm in c:\\users\\emiel.feryn\\pycharmprojects\\pythonproject2\\venv\\lib\\site-packages (from open_clip_torch) (4.66.1)\n",
      "Requirement already satisfied: torchvision in c:\\users\\emiel.feryn\\pycharmprojects\\pythonproject2\\venv\\lib\\site-packages (from open_clip_torch) (0.16.2)\n",
      "Requirement already satisfied: protobuf in c:\\users\\emiel.feryn\\pycharmprojects\\pythonproject2\\venv\\lib\\site-packages (from open_clip_torch) (4.25.1)\n",
      "Requirement already satisfied: huggingface-hub in c:\\users\\emiel.feryn\\pycharmprojects\\pythonproject2\\venv\\lib\\site-packages (from open_clip_torch) (0.20.2)\n",
      "Requirement already satisfied: timm in c:\\users\\emiel.feryn\\pycharmprojects\\pythonproject2\\venv\\lib\\site-packages (from open_clip_torch) (0.9.12)\n",
      "Requirement already satisfied: ftfy in c:\\users\\emiel.feryn\\pycharmprojects\\pythonproject2\\venv\\lib\\site-packages (from open_clip_torch) (6.1.3)\n",
      "Requirement already satisfied: sentencepiece in c:\\users\\emiel.feryn\\pycharmprojects\\pythonproject2\\venv\\lib\\site-packages (from open_clip_torch) (0.1.99)\n",
      "Requirement already satisfied: filelock in c:\\users\\emiel.feryn\\pycharmprojects\\pythonproject2\\venv\\lib\\site-packages (from torch>=1.9.0->open_clip_torch) (3.13.1)\n",
      "Requirement already satisfied: jinja2 in c:\\users\\emiel.feryn\\pycharmprojects\\pythonproject2\\venv\\lib\\site-packages (from torch>=1.9.0->open_clip_torch) (3.1.2)\n",
      "Requirement already satisfied: networkx in c:\\users\\emiel.feryn\\pycharmprojects\\pythonproject2\\venv\\lib\\site-packages (from torch>=1.9.0->open_clip_torch) (3.2.1)\n",
      "Requirement already satisfied: fsspec in c:\\users\\emiel.feryn\\pycharmprojects\\pythonproject2\\venv\\lib\\site-packages (from torch>=1.9.0->open_clip_torch) (2023.12.2)\n",
      "Requirement already satisfied: sympy in c:\\users\\emiel.feryn\\pycharmprojects\\pythonproject2\\venv\\lib\\site-packages (from torch>=1.9.0->open_clip_torch) (1.12)\n",
      "Requirement already satisfied: typing-extensions in c:\\users\\emiel.feryn\\pycharmprojects\\pythonproject2\\venv\\lib\\site-packages (from torch>=1.9.0->open_clip_torch) (4.9.0)\n",
      "Requirement already satisfied: wcwidth<0.3.0,>=0.2.12 in c:\\users\\emiel.feryn\\pycharmprojects\\pythonproject2\\venv\\lib\\site-packages (from ftfy->open_clip_torch) (0.2.13)\n",
      "Requirement already satisfied: requests in c:\\users\\emiel.feryn\\pycharmprojects\\pythonproject2\\venv\\lib\\site-packages (from huggingface-hub->open_clip_torch) (2.31.0)\n",
      "Requirement already satisfied: pyyaml>=5.1 in c:\\users\\emiel.feryn\\pycharmprojects\\pythonproject2\\venv\\lib\\site-packages (from huggingface-hub->open_clip_torch) (6.0.1)\n",
      "Requirement already satisfied: packaging>=20.9 in c:\\users\\emiel.feryn\\pycharmprojects\\pythonproject2\\venv\\lib\\site-packages (from huggingface-hub->open_clip_torch) (23.2)\n",
      "Requirement already satisfied: colorama in c:\\users\\emiel.feryn\\pycharmprojects\\pythonproject2\\venv\\lib\\site-packages (from tqdm->open_clip_torch) (0.4.6)\n",
      "Requirement already satisfied: safetensors in c:\\users\\emiel.feryn\\pycharmprojects\\pythonproject2\\venv\\lib\\site-packages (from timm->open_clip_torch) (0.4.1)\n",
      "Requirement already satisfied: numpy in c:\\users\\emiel.feryn\\pycharmprojects\\pythonproject2\\venv\\lib\\site-packages (from torchvision->open_clip_torch) (1.26.3)\n",
      "Requirement already satisfied: pillow!=8.3.*,>=5.3.0 in c:\\users\\emiel.feryn\\pycharmprojects\\pythonproject2\\venv\\lib\\site-packages (from torchvision->open_clip_torch) (10.2.0)\n",
      "Requirement already satisfied: MarkupSafe>=2.0 in c:\\users\\emiel.feryn\\pycharmprojects\\pythonproject2\\venv\\lib\\site-packages (from jinja2->torch>=1.9.0->open_clip_torch) (2.1.3)\n",
      "Requirement already satisfied: charset-normalizer<4,>=2 in c:\\users\\emiel.feryn\\pycharmprojects\\pythonproject2\\venv\\lib\\site-packages (from requests->huggingface-hub->open_clip_torch) (3.3.2)\n",
      "Requirement already satisfied: idna<4,>=2.5 in c:\\users\\emiel.feryn\\pycharmprojects\\pythonproject2\\venv\\lib\\site-packages (from requests->huggingface-hub->open_clip_torch) (3.6)\n",
      "Requirement already satisfied: urllib3<3,>=1.21.1 in c:\\users\\emiel.feryn\\pycharmprojects\\pythonproject2\\venv\\lib\\site-packages (from requests->huggingface-hub->open_clip_torch) (2.1.0)\n",
      "Requirement already satisfied: certifi>=2017.4.17 in c:\\users\\emiel.feryn\\pycharmprojects\\pythonproject2\\venv\\lib\\site-packages (from requests->huggingface-hub->open_clip_torch) (2023.11.17)\n",
      "Requirement already satisfied: mpmath>=0.19 in c:\\users\\emiel.feryn\\pycharmprojects\\pythonproject2\\venv\\lib\\site-packages (from sympy->torch>=1.9.0->open_clip_torch) (1.3.0)\n"
     ]
    },
    {
     "name": "stderr",
     "output_type": "stream",
     "text": [
      "\n",
      "[notice] A new release of pip available: 22.3.1 -> 23.3.2\n",
      "[notice] To update, run: python.exe -m pip install --upgrade pip\n"
     ]
    },
    {
     "name": "stdout",
     "output_type": "stream",
     "text": [
      "Requirement already satisfied: lancedb in c:\\users\\emiel.feryn\\pycharmprojects\\pythonproject2\\venv\\lib\\site-packages (0.4.3)\n",
      "Requirement already satisfied: retry>=0.9.2 in c:\\users\\emiel.feryn\\pycharmprojects\\pythonproject2\\venv\\lib\\site-packages (from lancedb) (0.9.2)\n",
      "Requirement already satisfied: click>=8.1.7 in c:\\users\\emiel.feryn\\pycharmprojects\\pythonproject2\\venv\\lib\\site-packages (from lancedb) (8.1.7)\n",
      "Requirement already satisfied: ratelimiter~=1.0 in c:\\users\\emiel.feryn\\pycharmprojects\\pythonproject2\\venv\\lib\\site-packages (from lancedb) (1.2.0.post0)\n",
      "Requirement already satisfied: deprecation in c:\\users\\emiel.feryn\\pycharmprojects\\pythonproject2\\venv\\lib\\site-packages (from lancedb) (2.1.0)\n",
      "Requirement already satisfied: requests>=2.31.0 in c:\\users\\emiel.feryn\\pycharmprojects\\pythonproject2\\venv\\lib\\site-packages (from lancedb) (2.31.0)\n",
      "Requirement already satisfied: attrs>=21.3.0 in c:\\users\\emiel.feryn\\pycharmprojects\\pythonproject2\\venv\\lib\\site-packages (from lancedb) (23.2.0)\n",
      "Requirement already satisfied: pydantic>=1.10 in c:\\users\\emiel.feryn\\pycharmprojects\\pythonproject2\\venv\\lib\\site-packages (from lancedb) (2.5.3)\n",
      "Requirement already satisfied: aiohttp in c:\\users\\emiel.feryn\\pycharmprojects\\pythonproject2\\venv\\lib\\site-packages (from lancedb) (3.9.1)\n",
      "Requirement already satisfied: overrides>=0.7 in c:\\users\\emiel.feryn\\pycharmprojects\\pythonproject2\\venv\\lib\\site-packages (from lancedb) (7.4.0)\n",
      "Requirement already satisfied: pylance==0.9.2 in c:\\users\\emiel.feryn\\pycharmprojects\\pythonproject2\\venv\\lib\\site-packages (from lancedb) (0.9.2)\n",
      "Requirement already satisfied: pyyaml>=6.0 in c:\\users\\emiel.feryn\\pycharmprojects\\pythonproject2\\venv\\lib\\site-packages (from lancedb) (6.0.1)\n",
      "Requirement already satisfied: tqdm>=4.27.0 in c:\\users\\emiel.feryn\\pycharmprojects\\pythonproject2\\venv\\lib\\site-packages (from lancedb) (4.66.1)\n",
      "Requirement already satisfied: semver>=3.0 in c:\\users\\emiel.feryn\\pycharmprojects\\pythonproject2\\venv\\lib\\site-packages (from lancedb) (3.0.2)\n",
      "Requirement already satisfied: cachetools in c:\\users\\emiel.feryn\\pycharmprojects\\pythonproject2\\venv\\lib\\site-packages (from lancedb) (5.3.2)\n",
      "Requirement already satisfied: pyarrow>=12 in c:\\users\\emiel.feryn\\pycharmprojects\\pythonproject2\\venv\\lib\\site-packages (from pylance==0.9.2->lancedb) (14.0.2)\n",
      "Requirement already satisfied: numpy>=1.22 in c:\\users\\emiel.feryn\\pycharmprojects\\pythonproject2\\venv\\lib\\site-packages (from pylance==0.9.2->lancedb) (1.26.3)\n",
      "Requirement already satisfied: colorama in c:\\users\\emiel.feryn\\pycharmprojects\\pythonproject2\\venv\\lib\\site-packages (from click>=8.1.7->lancedb) (0.4.6)\n",
      "Requirement already satisfied: typing-extensions>=4.6.1 in c:\\users\\emiel.feryn\\pycharmprojects\\pythonproject2\\venv\\lib\\site-packages (from pydantic>=1.10->lancedb) (4.9.0)\n",
      "Requirement already satisfied: pydantic-core==2.14.6 in c:\\users\\emiel.feryn\\pycharmprojects\\pythonproject2\\venv\\lib\\site-packages (from pydantic>=1.10->lancedb) (2.14.6)\n",
      "Requirement already satisfied: annotated-types>=0.4.0 in c:\\users\\emiel.feryn\\pycharmprojects\\pythonproject2\\venv\\lib\\site-packages (from pydantic>=1.10->lancedb) (0.6.0)\n",
      "Requirement already satisfied: charset-normalizer<4,>=2 in c:\\users\\emiel.feryn\\pycharmprojects\\pythonproject2\\venv\\lib\\site-packages (from requests>=2.31.0->lancedb) (3.3.2)\n",
      "Requirement already satisfied: certifi>=2017.4.17 in c:\\users\\emiel.feryn\\pycharmprojects\\pythonproject2\\venv\\lib\\site-packages (from requests>=2.31.0->lancedb) (2023.11.17)\n",
      "Requirement already satisfied: idna<4,>=2.5 in c:\\users\\emiel.feryn\\pycharmprojects\\pythonproject2\\venv\\lib\\site-packages (from requests>=2.31.0->lancedb) (3.6)\n",
      "Requirement already satisfied: urllib3<3,>=1.21.1 in c:\\users\\emiel.feryn\\pycharmprojects\\pythonproject2\\venv\\lib\\site-packages (from requests>=2.31.0->lancedb) (2.1.0)\n",
      "Requirement already satisfied: py<2.0.0,>=1.4.26 in c:\\users\\emiel.feryn\\pycharmprojects\\pythonproject2\\venv\\lib\\site-packages (from retry>=0.9.2->lancedb) (1.11.0)\n",
      "Requirement already satisfied: decorator>=3.4.2 in c:\\users\\emiel.feryn\\pycharmprojects\\pythonproject2\\venv\\lib\\site-packages (from retry>=0.9.2->lancedb) (5.1.1)\n",
      "Requirement already satisfied: multidict<7.0,>=4.5 in c:\\users\\emiel.feryn\\pycharmprojects\\pythonproject2\\venv\\lib\\site-packages (from aiohttp->lancedb) (6.0.4)\n",
      "Requirement already satisfied: aiosignal>=1.1.2 in c:\\users\\emiel.feryn\\pycharmprojects\\pythonproject2\\venv\\lib\\site-packages (from aiohttp->lancedb) (1.3.1)\n",
      "Requirement already satisfied: async-timeout<5.0,>=4.0 in c:\\users\\emiel.feryn\\pycharmprojects\\pythonproject2\\venv\\lib\\site-packages (from aiohttp->lancedb) (4.0.3)\n",
      "Requirement already satisfied: frozenlist>=1.1.1 in c:\\users\\emiel.feryn\\pycharmprojects\\pythonproject2\\venv\\lib\\site-packages (from aiohttp->lancedb) (1.4.1)\n",
      "Requirement already satisfied: yarl<2.0,>=1.0 in c:\\users\\emiel.feryn\\pycharmprojects\\pythonproject2\\venv\\lib\\site-packages (from aiohttp->lancedb) (1.9.4)\n",
      "Requirement already satisfied: packaging in c:\\users\\emiel.feryn\\pycharmprojects\\pythonproject2\\venv\\lib\\site-packages (from deprecation->lancedb) (23.2)\n"
     ]
    },
    {
     "name": "stderr",
     "output_type": "stream",
     "text": [
      "\n",
      "[notice] A new release of pip available: 22.3.1 -> 23.3.2\n",
      "[notice] To update, run: python.exe -m pip install --upgrade pip\n"
     ]
    },
    {
     "name": "stdout",
     "output_type": "stream",
     "text": [
      "Requirement already satisfied: opencv-python in c:\\users\\emiel.feryn\\pycharmprojects\\pythonproject2\\venv\\lib\\site-packages (4.9.0.80)\n",
      "Requirement already satisfied: numpy>=1.17.0 in c:\\users\\emiel.feryn\\pycharmprojects\\pythonproject2\\venv\\lib\\site-packages (from opencv-python) (1.26.3)\n"
     ]
    },
    {
     "name": "stderr",
     "output_type": "stream",
     "text": [
      "\n",
      "[notice] A new release of pip available: 22.3.1 -> 23.3.2\n",
      "[notice] To update, run: python.exe -m pip install --upgrade pip\n"
     ]
    },
    {
     "name": "stdout",
     "output_type": "stream",
     "text": [
      "Requirement already satisfied: matplotlib in c:\\users\\emiel.feryn\\pycharmprojects\\pythonproject2\\venv\\lib\\site-packages (3.8.2)\n",
      "Requirement already satisfied: packaging>=20.0 in c:\\users\\emiel.feryn\\pycharmprojects\\pythonproject2\\venv\\lib\\site-packages (from matplotlib) (23.2)\n",
      "Requirement already satisfied: contourpy>=1.0.1 in c:\\users\\emiel.feryn\\pycharmprojects\\pythonproject2\\venv\\lib\\site-packages (from matplotlib) (1.2.0)\n",
      "Requirement already satisfied: cycler>=0.10 in c:\\users\\emiel.feryn\\pycharmprojects\\pythonproject2\\venv\\lib\\site-packages (from matplotlib) (0.12.1)\n",
      "Requirement already satisfied: pillow>=8 in c:\\users\\emiel.feryn\\pycharmprojects\\pythonproject2\\venv\\lib\\site-packages (from matplotlib) (10.2.0)\n",
      "Requirement already satisfied: numpy<2,>=1.21 in c:\\users\\emiel.feryn\\pycharmprojects\\pythonproject2\\venv\\lib\\site-packages (from matplotlib) (1.26.3)\n",
      "Requirement already satisfied: pyparsing>=2.3.1 in c:\\users\\emiel.feryn\\pycharmprojects\\pythonproject2\\venv\\lib\\site-packages (from matplotlib) (3.1.1)\n",
      "Requirement already satisfied: importlib-resources>=3.2.0 in c:\\users\\emiel.feryn\\pycharmprojects\\pythonproject2\\venv\\lib\\site-packages (from matplotlib) (6.1.1)\n",
      "Requirement already satisfied: python-dateutil>=2.7 in c:\\users\\emiel.feryn\\pycharmprojects\\pythonproject2\\venv\\lib\\site-packages (from matplotlib) (2.8.2)\n",
      "Requirement already satisfied: fonttools>=4.22.0 in c:\\users\\emiel.feryn\\pycharmprojects\\pythonproject2\\venv\\lib\\site-packages (from matplotlib) (4.47.0)\n",
      "Requirement already satisfied: kiwisolver>=1.3.1 in c:\\users\\emiel.feryn\\pycharmprojects\\pythonproject2\\venv\\lib\\site-packages (from matplotlib) (1.4.5)\n",
      "Requirement already satisfied: zipp>=3.1.0 in c:\\users\\emiel.feryn\\pycharmprojects\\pythonproject2\\venv\\lib\\site-packages (from importlib-resources>=3.2.0->matplotlib) (3.17.0)\n",
      "Requirement already satisfied: six>=1.5 in c:\\users\\emiel.feryn\\pycharmprojects\\pythonproject2\\venv\\lib\\site-packages (from python-dateutil>=2.7->matplotlib) (1.16.0)\n"
     ]
    },
    {
     "name": "stderr",
     "output_type": "stream",
     "text": [
      "\n",
      "[notice] A new release of pip available: 22.3.1 -> 23.3.2\n",
      "[notice] To update, run: python.exe -m pip install --upgrade pip\n"
     ]
    },
    {
     "name": "stdout",
     "output_type": "stream",
     "text": [
      "Requirement already satisfied: pandas in c:\\users\\emiel.feryn\\pycharmprojects\\pythonproject2\\venv\\lib\\site-packages (2.1.4)\n",
      "Requirement already satisfied: python-dateutil>=2.8.2 in c:\\users\\emiel.feryn\\pycharmprojects\\pythonproject2\\venv\\lib\\site-packages (from pandas) (2.8.2)\n",
      "Requirement already satisfied: numpy<2,>=1.22.4 in c:\\users\\emiel.feryn\\pycharmprojects\\pythonproject2\\venv\\lib\\site-packages (from pandas) (1.26.3)\n",
      "Requirement already satisfied: pytz>=2020.1 in c:\\users\\emiel.feryn\\pycharmprojects\\pythonproject2\\venv\\lib\\site-packages (from pandas) (2023.3.post1)\n",
      "Requirement already satisfied: tzdata>=2022.1 in c:\\users\\emiel.feryn\\pycharmprojects\\pythonproject2\\venv\\lib\\site-packages (from pandas) (2023.4)\n",
      "Requirement already satisfied: six>=1.5 in c:\\users\\emiel.feryn\\pycharmprojects\\pythonproject2\\venv\\lib\\site-packages (from python-dateutil>=2.8.2->pandas) (1.16.0)\n"
     ]
    },
    {
     "name": "stderr",
     "output_type": "stream",
     "text": [
      "\n",
      "[notice] A new release of pip available: 22.3.1 -> 23.3.2\n",
      "[notice] To update, run: python.exe -m pip install --upgrade pip\n"
     ]
    }
   ],
   "source": [
    "!pip install git+https://github.com/facebookresearch/segment-anything.git\n",
    "!pip install open_clip_torch\n",
    "!pip install lancedb\n",
    "!pip install opencv-python\n",
    "!pip install matplotlib\n",
    "!pip install pandas"
   ]
  },
  {
   "cell_type": "markdown",
   "source": [
    "## Importing packages"
   ],
   "metadata": {
    "collapsed": false
   },
   "id": "6938775838759dcc"
  },
  {
   "cell_type": "code",
   "execution_count": 6,
   "outputs": [],
   "source": [
    "import lancedb\n",
    "import open_clip\n",
    "import os\n",
    "import requests"
   ],
   "metadata": {
    "collapsed": false,
    "ExecuteTime": {
     "end_time": "2024-01-08T21:21:10.802945900Z",
     "start_time": "2024-01-08T21:21:10.548318200Z"
    }
   },
   "id": "e09440189b3002f8"
  },
  {
   "cell_type": "markdown",
   "source": [
    "## Downloading SAM model "
   ],
   "metadata": {
    "collapsed": false
   },
   "id": "fa06e6e888d28a58"
  },
  {
   "cell_type": "markdown",
   "source": [
    "(https://huggingface.co/facebook/sam-vit-huge)"
   ],
   "metadata": {
    "collapsed": false
   },
   "id": "b951d6137af6d570"
  },
  {
   "cell_type": "code",
   "execution_count": 10,
   "outputs": [],
   "source": [
    "url = 'https://dl.fbaipublicfiles.com/segment_anything/sam_vit_h_4b8939.pth'\n",
    "response = requests.get(url)"
   ],
   "metadata": {
    "collapsed": false,
    "ExecuteTime": {
     "end_time": "2024-01-08T21:44:11.248001700Z",
     "start_time": "2024-01-08T21:35:32.168134700Z"
    }
   },
   "id": "40f58b68e6dee8c1"
  },
  {
   "cell_type": "code",
   "execution_count": 11,
   "outputs": [],
   "source": [
    "path = 'sam_vit_h_4b8939.pth'\n",
    "with open(path, 'wb') as f:\n",
    "    f.write(response.content)\n",
    "assert os.path.exists(path), f\"The model file does not exist.\""
   ],
   "metadata": {
    "collapsed": false,
    "ExecuteTime": {
     "end_time": "2024-01-08T21:44:49.352159500Z",
     "start_time": "2024-01-08T21:44:47.346498Z"
    }
   },
   "id": "d7407cec5deb06d0"
  },
  {
   "cell_type": "markdown",
   "source": [],
   "metadata": {
    "collapsed": false
   },
   "id": "f728ca2611ff5f0f"
  },
  {
   "cell_type": "markdown",
   "source": [
    "## Initializing vector database"
   ],
   "metadata": {
    "collapsed": false
   },
   "id": "a0919d706387b110"
  },
  {
   "cell_type": "markdown",
   "source": [
    "(https://lancedb.com/)"
   ],
   "metadata": {
    "collapsed": false
   },
   "id": "7a8793d23ae717f"
  },
  {
   "cell_type": "code",
   "execution_count": 13,
   "outputs": [],
   "source": [
    "uri = \"data/sample-lancedb\"\n",
    "db = lancedb.connect(uri)"
   ],
   "metadata": {
    "collapsed": false,
    "ExecuteTime": {
     "end_time": "2024-01-08T21:47:08.681396400Z",
     "start_time": "2024-01-08T21:47:08.667375200Z"
    }
   },
   "id": "d9691cdba119b369"
  },
  {
   "cell_type": "markdown",
   "source": [
    "## Loading clip model"
   ],
   "metadata": {
    "collapsed": false
   },
   "id": "573e778a17c54b67"
  },
  {
   "cell_type": "markdown",
   "source": [
    "(https://openai.com/research/clip)"
   ],
   "metadata": {
    "collapsed": false
   },
   "id": "4d10baec7748ae31"
  },
  {
   "cell_type": "code",
   "execution_count": 14,
   "outputs": [
    {
     "data": {
      "text/plain": "open_clip_pytorch_model.bin:   0%|          | 0.00/605M [00:00<?, ?B/s]",
      "application/vnd.jupyter.widget-view+json": {
       "version_major": 2,
       "version_minor": 0,
       "model_id": "5f1c3ddf765f453c8e8aa919052bc57b"
      }
     },
     "metadata": {},
     "output_type": "display_data"
    },
    {
     "name": "stderr",
     "output_type": "stream",
     "text": [
      "C:\\Users\\Emiel.Feryn\\PycharmProjects\\pythonProject2\\venv\\lib\\site-packages\\huggingface_hub\\file_download.py:149: UserWarning: `huggingface_hub` cache-system uses symlinks by default to efficiently store duplicated files but your machine does not support them in C:\\Users\\Emiel.Feryn\\.cache\\huggingface\\hub\\models--laion--CLIP-ViT-B-32-laion2B-s34B-b79K. Caching files will still work but in a degraded version that might require more space on your disk. This warning can be disabled by setting the `HF_HUB_DISABLE_SYMLINKS_WARNING` environment variable. For more details, see https://huggingface.co/docs/huggingface_hub/how-to-cache#limitations.\n",
      "To support symlinks on Windows, you either need to activate Developer Mode or to run Python as an administrator. In order to see activate developer mode, see this article: https://docs.microsoft.com/en-us/windows/apps/get-started/enable-your-device-for-development\n",
      "  warnings.warn(message)\n"
     ]
    }
   ],
   "source": [
    "model, _, preprocess = open_clip.create_model_and_transforms('ViT-B-32', pretrained='laion2b_s34b_b79k')\n",
    "tokenizer = open_clip.get_tokenizer('ViT-B-32')"
   ],
   "metadata": {
    "collapsed": false,
    "ExecuteTime": {
     "end_time": "2024-01-08T21:50:30.437544400Z",
     "start_time": "2024-01-08T21:48:52.615355200Z"
    }
   },
   "id": "8663fbb082ce4ca"
  }
 ],
 "metadata": {
  "kernelspec": {
   "display_name": "Python 3",
   "language": "python",
   "name": "python3"
  },
  "language_info": {
   "codemirror_mode": {
    "name": "ipython",
    "version": 2
   },
   "file_extension": ".py",
   "mimetype": "text/x-python",
   "name": "python",
   "nbconvert_exporter": "python",
   "pygments_lexer": "ipython2",
   "version": "2.7.6"
  }
 },
 "nbformat": 4,
 "nbformat_minor": 5
}
